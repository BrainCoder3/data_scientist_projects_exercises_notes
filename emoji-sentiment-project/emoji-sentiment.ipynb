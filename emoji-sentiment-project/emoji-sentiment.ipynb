{
 "cells": [
  {
   "cell_type": "markdown",
   "metadata": {},
   "source": [
    "# Emoji Sentiment\n",
    "\n",
    "Are popular emojis generally associated with positive or negative sentiments?\n",
    "\n",
    "The file `\"emoji-sentiment.csv\"` provides data on the sentiment associated with various emojis.\n",
    "\n",
    "Researchers examined 1.6 million tweets across 13 European languages. Each tweet was labeled by annotators as positive (+1), negative (-1), or neutral (0). About 4% of these tweets included emojis.\n",
    "\n",
    "Columns include:\n",
    "- `Occurrences [5...max]`: Number of times the emoji appears in the dataset.\n",
    "- `Position [0...1]`: Average position of the emoji in tweets, from start (0) to end (1).\n",
    "- `Neg [0...1]`: Percentage of tweets with the emoji that are 'negative'.\n",
    "- `Neu [0...1]`: Percentage of tweets with the emoji that are 'neutral'.\n",
    "- `Pos [0...1]`: Percentage of tweets with the emoji that are 'positive'.\n",
    "\n"
   ]
  },
  {
   "cell_type": "code",
   "execution_count": 66,
   "metadata": {},
   "outputs": [],
   "source": [
    "# FOR GOOGLE COLAB ONLY.\n",
    "# Uncomment and run the code below. A dialog will appear to upload files.\n",
    "# Upload 'emoji-sentiment.csv'.\n",
    "\n",
    "# from google.colab import files\n",
    "# uploaded = files.upload()"
   ]
  },
  {
   "cell_type": "code",
   "execution_count": 67,
   "metadata": {},
   "outputs": [
    {
     "data": {
      "text/html": [
       "<div>\n",
       "<style scoped>\n",
       "    .dataframe tbody tr th:only-of-type {\n",
       "        vertical-align: middle;\n",
       "    }\n",
       "\n",
       "    .dataframe tbody tr th {\n",
       "        vertical-align: top;\n",
       "    }\n",
       "\n",
       "    .dataframe thead th {\n",
       "        text-align: right;\n",
       "    }\n",
       "</style>\n",
       "<table border=\"1\" class=\"dataframe\">\n",
       "  <thead>\n",
       "    <tr style=\"text-align: right;\">\n",
       "      <th></th>\n",
       "      <th>Char</th>\n",
       "      <th>Image [twemoji]</th>\n",
       "      <th>Unicode codepoint</th>\n",
       "      <th>Occurrences [5...max]</th>\n",
       "      <th>Position [0...1]</th>\n",
       "      <th>Neg [0...1]</th>\n",
       "      <th>Neut [0...1]</th>\n",
       "      <th>Pos [0...1]</th>\n",
       "      <th>Sentiment bar (c.i. 95%)</th>\n",
       "      <th>Unicode name</th>\n",
       "      <th>Unicode block</th>\n",
       "    </tr>\n",
       "  </thead>\n",
       "  <tbody>\n",
       "    <tr>\n",
       "      <th>0</th>\n",
       "      <td>😂</td>\n",
       "      <td>😂</td>\n",
       "      <td>0x1f602</td>\n",
       "      <td>14622</td>\n",
       "      <td>0.805</td>\n",
       "      <td>0.247</td>\n",
       "      <td>0.285</td>\n",
       "      <td>0.468</td>\n",
       "      <td>NaN</td>\n",
       "      <td>FACE WITH TEARS OF JOY</td>\n",
       "      <td>Emoticons</td>\n",
       "    </tr>\n",
       "    <tr>\n",
       "      <th>1</th>\n",
       "      <td>❤</td>\n",
       "      <td>❤</td>\n",
       "      <td>0x2764</td>\n",
       "      <td>8050</td>\n",
       "      <td>0.747</td>\n",
       "      <td>0.044</td>\n",
       "      <td>0.166</td>\n",
       "      <td>0.790</td>\n",
       "      <td>NaN</td>\n",
       "      <td>HEAVY BLACK HEART</td>\n",
       "      <td>Dingbats</td>\n",
       "    </tr>\n",
       "    <tr>\n",
       "      <th>2</th>\n",
       "      <td>♥</td>\n",
       "      <td>♥</td>\n",
       "      <td>0x2665</td>\n",
       "      <td>7144</td>\n",
       "      <td>0.754</td>\n",
       "      <td>0.035</td>\n",
       "      <td>0.272</td>\n",
       "      <td>0.693</td>\n",
       "      <td>NaN</td>\n",
       "      <td>BLACK HEART SUIT</td>\n",
       "      <td>Miscellaneous Symbols</td>\n",
       "    </tr>\n",
       "  </tbody>\n",
       "</table>\n",
       "</div>"
      ],
      "text/plain": [
       "  Char Image [twemoji] Unicode codepoint  Occurrences [5...max]  \\\n",
       "0    😂               😂           0x1f602                  14622   \n",
       "1    ❤               ❤            0x2764                   8050   \n",
       "2    ♥               ♥            0x2665                   7144   \n",
       "\n",
       "   Position [0...1]  Neg [0...1]  Neut [0...1]  Pos [0...1]  \\\n",
       "0             0.805        0.247         0.285        0.468   \n",
       "1             0.747        0.044         0.166        0.790   \n",
       "2             0.754        0.035         0.272        0.693   \n",
       "\n",
       "   Sentiment bar (c.i. 95%)            Unicode name          Unicode block  \n",
       "0                       NaN  FACE WITH TEARS OF JOY              Emoticons  \n",
       "1                       NaN       HEAVY BLACK HEART               Dingbats  \n",
       "2                       NaN        BLACK HEART SUIT  Miscellaneous Symbols  "
      ]
     },
     "execution_count": 67,
     "metadata": {},
     "output_type": "execute_result"
    }
   ],
   "source": [
    "import pandas as pd\n",
    "df = pd.read_csv('emoji-sentiment.csv')\n",
    "df.head(3)"
   ]
  },
  {
   "cell_type": "markdown",
   "metadata": {},
   "source": [
    "### Project Ideas:\n",
    "\n",
    "Data Cleaning: \n",
    "- Remove unnecessary columns that are not useful for your analysis.\n",
    "\n",
    "- Rename the remaining columns using `snake_case` (all lowercase letters with underscores between words).\n",
    "\n",
    "New Variables:\n",
    "- Add a new column called `sentiment`, where sentiment = (% positive tweets) - (% negative tweets).\n",
    "\n",
    "- Add a `positive_flag` column that is `True` if `sentiment > 0` (or above a set threshold), otherwise `False`.\n",
    "\n",
    "Types of questions you can now answer more easily:\n",
    "- What percentage of emojis in the dataset have a positive sentiment?\n",
    "\n",
    "- What percentage of the top 20 most popular emojis are positive?\n",
    "\n",
    "- Which emoji (with more than 500 mentions) is the most positive?\n",
    "\n",
    "- Which emoji (with more than 500 mentions) is the most negative?\n",
    "\n",
    "- Where in the tweets are most emojis located (i.e. at the beginning or the end)?\n",
    "\n",
    "- Is there a difference in the placement of positive versus negative emojis within a tweet?"
   ]
  },
  {
   "cell_type": "code",
   "execution_count": 68,
   "metadata": {},
   "outputs": [
    {
     "name": "stdout",
     "output_type": "stream",
     "text": [
      "<class 'pandas.core.frame.DataFrame'>\n",
      "RangeIndex: 751 entries, 0 to 750\n",
      "Data columns (total 11 columns):\n",
      " #   Column                    Non-Null Count  Dtype  \n",
      "---  ------                    --------------  -----  \n",
      " 0   Char                      751 non-null    object \n",
      " 1   Image [twemoji]           751 non-null    object \n",
      " 2   Unicode codepoint         751 non-null    object \n",
      " 3   Occurrences [5...max]     751 non-null    int64  \n",
      " 4   Position [0...1]          751 non-null    float64\n",
      " 5   Neg [0...1]               751 non-null    float64\n",
      " 6   Neut [0...1]              751 non-null    float64\n",
      " 7   Pos [0...1]               751 non-null    float64\n",
      " 8   Sentiment bar (c.i. 95%)  0 non-null      float64\n",
      " 9   Unicode name              751 non-null    object \n",
      " 10  Unicode block             751 non-null    object \n",
      "dtypes: float64(5), int64(1), object(5)\n",
      "memory usage: 64.7+ KB\n"
     ]
    }
   ],
   "source": [
    "# YOUR CODE HERE (add additional cells as needed)\n",
    "df.info()"
   ]
  },
  {
   "cell_type": "code",
   "execution_count": 69,
   "metadata": {},
   "outputs": [
    {
     "data": {
      "text/plain": [
       "Index(['Char', 'Image [twemoji]', 'Unicode codepoint', 'Occurrences [5...max]',\n",
       "       'Position [0...1]', 'Neg [0...1]', 'Neut [0...1]', 'Pos [0...1]',\n",
       "       'Sentiment bar (c.i. 95%)', 'Unicode name', 'Unicode block'],\n",
       "      dtype='object')"
      ]
     },
     "execution_count": 69,
     "metadata": {},
     "output_type": "execute_result"
    }
   ],
   "source": [
    "df.columns"
   ]
  },
  {
   "cell_type": "code",
   "execution_count": 70,
   "metadata": {},
   "outputs": [
    {
     "name": "stderr",
     "output_type": "stream",
     "text": [
      "C:\\Users\\pc\\AppData\\Local\\Temp\\ipykernel_13844\\2022156522.py:5: SettingWithCopyWarning: \n",
      "A value is trying to be set on a copy of a slice from a DataFrame\n",
      "\n",
      "See the caveats in the documentation: https://pandas.pydata.org/pandas-docs/stable/user_guide/indexing.html#returning-a-view-versus-a-copy\n",
      "  analyze_data.rename(columns=columns_renamed,inplace=True)\n"
     ]
    },
    {
     "data": {
      "text/html": [
       "<div>\n",
       "<style scoped>\n",
       "    .dataframe tbody tr th:only-of-type {\n",
       "        vertical-align: middle;\n",
       "    }\n",
       "\n",
       "    .dataframe tbody tr th {\n",
       "        vertical-align: top;\n",
       "    }\n",
       "\n",
       "    .dataframe thead th {\n",
       "        text-align: right;\n",
       "    }\n",
       "</style>\n",
       "<table border=\"1\" class=\"dataframe\">\n",
       "  <thead>\n",
       "    <tr style=\"text-align: right;\">\n",
       "      <th></th>\n",
       "      <th>image_icones</th>\n",
       "      <th>occurences</th>\n",
       "      <th>emotion_neg</th>\n",
       "      <th>emotion_neut</th>\n",
       "      <th>emotion_pos</th>\n",
       "      <th>position</th>\n",
       "    </tr>\n",
       "  </thead>\n",
       "  <tbody>\n",
       "    <tr>\n",
       "      <th>0</th>\n",
       "      <td>😂</td>\n",
       "      <td>14622</td>\n",
       "      <td>0.247</td>\n",
       "      <td>0.285</td>\n",
       "      <td>0.468</td>\n",
       "      <td>0.805</td>\n",
       "    </tr>\n",
       "    <tr>\n",
       "      <th>1</th>\n",
       "      <td>❤</td>\n",
       "      <td>8050</td>\n",
       "      <td>0.044</td>\n",
       "      <td>0.166</td>\n",
       "      <td>0.790</td>\n",
       "      <td>0.747</td>\n",
       "    </tr>\n",
       "    <tr>\n",
       "      <th>2</th>\n",
       "      <td>♥</td>\n",
       "      <td>7144</td>\n",
       "      <td>0.035</td>\n",
       "      <td>0.272</td>\n",
       "      <td>0.693</td>\n",
       "      <td>0.754</td>\n",
       "    </tr>\n",
       "    <tr>\n",
       "      <th>3</th>\n",
       "      <td>😍</td>\n",
       "      <td>6359</td>\n",
       "      <td>0.052</td>\n",
       "      <td>0.219</td>\n",
       "      <td>0.729</td>\n",
       "      <td>0.765</td>\n",
       "    </tr>\n",
       "    <tr>\n",
       "      <th>4</th>\n",
       "      <td>😭</td>\n",
       "      <td>5526</td>\n",
       "      <td>0.436</td>\n",
       "      <td>0.220</td>\n",
       "      <td>0.343</td>\n",
       "      <td>0.803</td>\n",
       "    </tr>\n",
       "    <tr>\n",
       "      <th>...</th>\n",
       "      <td>...</td>\n",
       "      <td>...</td>\n",
       "      <td>...</td>\n",
       "      <td>...</td>\n",
       "      <td>...</td>\n",
       "      <td>...</td>\n",
       "    </tr>\n",
       "    <tr>\n",
       "      <th>746</th>\n",
       "      <td>♮</td>\n",
       "      <td>5</td>\n",
       "      <td>0.125</td>\n",
       "      <td>0.625</td>\n",
       "      <td>0.250</td>\n",
       "      <td>0.937</td>\n",
       "    </tr>\n",
       "    <tr>\n",
       "      <th>747</th>\n",
       "      <td>🅾</td>\n",
       "      <td>5</td>\n",
       "      <td>0.375</td>\n",
       "      <td>0.375</td>\n",
       "      <td>0.250</td>\n",
       "      <td>0.977</td>\n",
       "    </tr>\n",
       "    <tr>\n",
       "      <th>748</th>\n",
       "      <td>🔄</td>\n",
       "      <td>5</td>\n",
       "      <td>0.125</td>\n",
       "      <td>0.750</td>\n",
       "      <td>0.125</td>\n",
       "      <td>0.971</td>\n",
       "    </tr>\n",
       "    <tr>\n",
       "      <th>749</th>\n",
       "      <td>☄</td>\n",
       "      <td>5</td>\n",
       "      <td>0.125</td>\n",
       "      <td>0.750</td>\n",
       "      <td>0.125</td>\n",
       "      <td>0.435</td>\n",
       "    </tr>\n",
       "    <tr>\n",
       "      <th>750</th>\n",
       "      <td>☨</td>\n",
       "      <td>5</td>\n",
       "      <td>0.125</td>\n",
       "      <td>0.750</td>\n",
       "      <td>0.125</td>\n",
       "      <td>0.458</td>\n",
       "    </tr>\n",
       "  </tbody>\n",
       "</table>\n",
       "<p>751 rows × 6 columns</p>\n",
       "</div>"
      ],
      "text/plain": [
       "    image_icones  occurences  emotion_neg  emotion_neut  emotion_pos  position\n",
       "0              😂       14622        0.247         0.285        0.468     0.805\n",
       "1              ❤        8050        0.044         0.166        0.790     0.747\n",
       "2              ♥        7144        0.035         0.272        0.693     0.754\n",
       "3              😍        6359        0.052         0.219        0.729     0.765\n",
       "4              😭        5526        0.436         0.220        0.343     0.803\n",
       "..           ...         ...          ...           ...          ...       ...\n",
       "746            ♮           5        0.125         0.625        0.250     0.937\n",
       "747            🅾           5        0.375         0.375        0.250     0.977\n",
       "748            🔄           5        0.125         0.750        0.125     0.971\n",
       "749            ☄           5        0.125         0.750        0.125     0.435\n",
       "750            ☨           5        0.125         0.750        0.125     0.458\n",
       "\n",
       "[751 rows x 6 columns]"
      ]
     },
     "execution_count": 70,
     "metadata": {},
     "output_type": "execute_result"
    }
   ],
   "source": [
    "analyze_columns=['Image [twemoji]','Occurrences [5...max]','Neg [0...1]', 'Neut [0...1]','Pos [0...1]','Position [0...1]']\n",
    "columns_renamed={'Image [twemoji]':'image_icones','Occurrences [5...max]':'occurences','Neg [0...1]':'emotion_neg', 'Neut [0...1]':'emotion_neut','Pos [0...1]':'emotion_pos','Position [0...1]':'position'}\n",
    "\n",
    "analyze_data=df[analyze_columns]\n",
    "analyze_data.rename(columns=columns_renamed,inplace=True)\n",
    "analyze_data"
   ]
  },
  {
   "cell_type": "code",
   "execution_count": 71,
   "metadata": {},
   "outputs": [
    {
     "name": "stderr",
     "output_type": "stream",
     "text": [
      "C:\\Users\\pc\\AppData\\Local\\Temp\\ipykernel_13844\\1929300183.py:1: SettingWithCopyWarning: \n",
      "A value is trying to be set on a copy of a slice from a DataFrame.\n",
      "Try using .loc[row_indexer,col_indexer] = value instead\n",
      "\n",
      "See the caveats in the documentation: https://pandas.pydata.org/pandas-docs/stable/user_guide/indexing.html#returning-a-view-versus-a-copy\n",
      "  analyze_data['sentiment'] =analyze_data.eval('emotion_pos - emotion_neg')\n",
      "C:\\Users\\pc\\AppData\\Local\\Temp\\ipykernel_13844\\1929300183.py:2: SettingWithCopyWarning: \n",
      "A value is trying to be set on a copy of a slice from a DataFrame.\n",
      "Try using .loc[row_indexer,col_indexer] = value instead\n",
      "\n",
      "See the caveats in the documentation: https://pandas.pydata.org/pandas-docs/stable/user_guide/indexing.html#returning-a-view-versus-a-copy\n",
      "  analyze_data['positive_flag']=analyze_data['sentiment'] >0\n"
     ]
    },
    {
     "data": {
      "text/html": [
       "<div>\n",
       "<style scoped>\n",
       "    .dataframe tbody tr th:only-of-type {\n",
       "        vertical-align: middle;\n",
       "    }\n",
       "\n",
       "    .dataframe tbody tr th {\n",
       "        vertical-align: top;\n",
       "    }\n",
       "\n",
       "    .dataframe thead th {\n",
       "        text-align: right;\n",
       "    }\n",
       "</style>\n",
       "<table border=\"1\" class=\"dataframe\">\n",
       "  <thead>\n",
       "    <tr style=\"text-align: right;\">\n",
       "      <th></th>\n",
       "      <th>image_icones</th>\n",
       "      <th>occurences</th>\n",
       "      <th>emotion_neg</th>\n",
       "      <th>emotion_neut</th>\n",
       "      <th>emotion_pos</th>\n",
       "      <th>position</th>\n",
       "      <th>sentiment</th>\n",
       "      <th>positive_flag</th>\n",
       "    </tr>\n",
       "  </thead>\n",
       "  <tbody>\n",
       "    <tr>\n",
       "      <th>0</th>\n",
       "      <td>😂</td>\n",
       "      <td>14622</td>\n",
       "      <td>0.247</td>\n",
       "      <td>0.285</td>\n",
       "      <td>0.468</td>\n",
       "      <td>0.805</td>\n",
       "      <td>0.221</td>\n",
       "      <td>True</td>\n",
       "    </tr>\n",
       "    <tr>\n",
       "      <th>1</th>\n",
       "      <td>❤</td>\n",
       "      <td>8050</td>\n",
       "      <td>0.044</td>\n",
       "      <td>0.166</td>\n",
       "      <td>0.790</td>\n",
       "      <td>0.747</td>\n",
       "      <td>0.746</td>\n",
       "      <td>True</td>\n",
       "    </tr>\n",
       "    <tr>\n",
       "      <th>2</th>\n",
       "      <td>♥</td>\n",
       "      <td>7144</td>\n",
       "      <td>0.035</td>\n",
       "      <td>0.272</td>\n",
       "      <td>0.693</td>\n",
       "      <td>0.754</td>\n",
       "      <td>0.658</td>\n",
       "      <td>True</td>\n",
       "    </tr>\n",
       "    <tr>\n",
       "      <th>3</th>\n",
       "      <td>😍</td>\n",
       "      <td>6359</td>\n",
       "      <td>0.052</td>\n",
       "      <td>0.219</td>\n",
       "      <td>0.729</td>\n",
       "      <td>0.765</td>\n",
       "      <td>0.677</td>\n",
       "      <td>True</td>\n",
       "    </tr>\n",
       "    <tr>\n",
       "      <th>4</th>\n",
       "      <td>😭</td>\n",
       "      <td>5526</td>\n",
       "      <td>0.436</td>\n",
       "      <td>0.220</td>\n",
       "      <td>0.343</td>\n",
       "      <td>0.803</td>\n",
       "      <td>-0.093</td>\n",
       "      <td>False</td>\n",
       "    </tr>\n",
       "    <tr>\n",
       "      <th>...</th>\n",
       "      <td>...</td>\n",
       "      <td>...</td>\n",
       "      <td>...</td>\n",
       "      <td>...</td>\n",
       "      <td>...</td>\n",
       "      <td>...</td>\n",
       "      <td>...</td>\n",
       "      <td>...</td>\n",
       "    </tr>\n",
       "    <tr>\n",
       "      <th>746</th>\n",
       "      <td>♮</td>\n",
       "      <td>5</td>\n",
       "      <td>0.125</td>\n",
       "      <td>0.625</td>\n",
       "      <td>0.250</td>\n",
       "      <td>0.937</td>\n",
       "      <td>0.125</td>\n",
       "      <td>True</td>\n",
       "    </tr>\n",
       "    <tr>\n",
       "      <th>747</th>\n",
       "      <td>🅾</td>\n",
       "      <td>5</td>\n",
       "      <td>0.375</td>\n",
       "      <td>0.375</td>\n",
       "      <td>0.250</td>\n",
       "      <td>0.977</td>\n",
       "      <td>-0.125</td>\n",
       "      <td>False</td>\n",
       "    </tr>\n",
       "    <tr>\n",
       "      <th>748</th>\n",
       "      <td>🔄</td>\n",
       "      <td>5</td>\n",
       "      <td>0.125</td>\n",
       "      <td>0.750</td>\n",
       "      <td>0.125</td>\n",
       "      <td>0.971</td>\n",
       "      <td>0.000</td>\n",
       "      <td>False</td>\n",
       "    </tr>\n",
       "    <tr>\n",
       "      <th>749</th>\n",
       "      <td>☄</td>\n",
       "      <td>5</td>\n",
       "      <td>0.125</td>\n",
       "      <td>0.750</td>\n",
       "      <td>0.125</td>\n",
       "      <td>0.435</td>\n",
       "      <td>0.000</td>\n",
       "      <td>False</td>\n",
       "    </tr>\n",
       "    <tr>\n",
       "      <th>750</th>\n",
       "      <td>☨</td>\n",
       "      <td>5</td>\n",
       "      <td>0.125</td>\n",
       "      <td>0.750</td>\n",
       "      <td>0.125</td>\n",
       "      <td>0.458</td>\n",
       "      <td>0.000</td>\n",
       "      <td>False</td>\n",
       "    </tr>\n",
       "  </tbody>\n",
       "</table>\n",
       "<p>751 rows × 8 columns</p>\n",
       "</div>"
      ],
      "text/plain": [
       "    image_icones  occurences  emotion_neg  emotion_neut  emotion_pos  \\\n",
       "0              😂       14622        0.247         0.285        0.468   \n",
       "1              ❤        8050        0.044         0.166        0.790   \n",
       "2              ♥        7144        0.035         0.272        0.693   \n",
       "3              😍        6359        0.052         0.219        0.729   \n",
       "4              😭        5526        0.436         0.220        0.343   \n",
       "..           ...         ...          ...           ...          ...   \n",
       "746            ♮           5        0.125         0.625        0.250   \n",
       "747            🅾           5        0.375         0.375        0.250   \n",
       "748            🔄           5        0.125         0.750        0.125   \n",
       "749            ☄           5        0.125         0.750        0.125   \n",
       "750            ☨           5        0.125         0.750        0.125   \n",
       "\n",
       "     position  sentiment  positive_flag  \n",
       "0       0.805      0.221           True  \n",
       "1       0.747      0.746           True  \n",
       "2       0.754      0.658           True  \n",
       "3       0.765      0.677           True  \n",
       "4       0.803     -0.093          False  \n",
       "..        ...        ...            ...  \n",
       "746     0.937      0.125           True  \n",
       "747     0.977     -0.125          False  \n",
       "748     0.971      0.000          False  \n",
       "749     0.435      0.000          False  \n",
       "750     0.458      0.000          False  \n",
       "\n",
       "[751 rows x 8 columns]"
      ]
     },
     "execution_count": 71,
     "metadata": {},
     "output_type": "execute_result"
    }
   ],
   "source": [
    "analyze_data['sentiment'] =analyze_data.eval('emotion_pos - emotion_neg')\n",
    "analyze_data['positive_flag']=analyze_data['sentiment'] >0\n",
    "analyze_data"
   ]
  },
  {
   "cell_type": "code",
   "execution_count": 72,
   "metadata": {},
   "outputs": [
    {
     "data": {
      "text/plain": [
       "np.float64(82.42343541944075)"
      ]
     },
     "execution_count": 72,
     "metadata": {},
     "output_type": "execute_result"
    }
   ],
   "source": [
    "analyze_data['positive_flag'].mean()*100"
   ]
  },
  {
   "cell_type": "code",
   "execution_count": 73,
   "metadata": {},
   "outputs": [
    {
     "data": {
      "text/plain": [
       "np.float64(90.0)"
      ]
     },
     "execution_count": 73,
     "metadata": {},
     "output_type": "execute_result"
    }
   ],
   "source": [
    "top_20=analyze_data.sort_values(by='occurences',ascending=False).head(20)\n",
    "top_20['positive_flag'].mean()*100"
   ]
  },
  {
   "cell_type": "code",
   "execution_count": 75,
   "metadata": {},
   "outputs": [
    {
     "data": {
      "text/plain": [
       "positive_flag    True\n",
       "image_icones        🙏\n",
       "dtype: object"
      ]
     },
     "metadata": {},
     "output_type": "display_data"
    },
    {
     "data": {
      "text/plain": [
       "positive_flag    False\n",
       "image_icones         █\n",
       "dtype: object"
      ]
     },
     "metadata": {},
     "output_type": "display_data"
    }
   ],
   "source": [
    "most_occurences= analyze_data[analyze_data.eval('occurences > 500') == True]\n",
    "\n",
    "display(most_occurences[['positive_flag','image_icones']].max())\n",
    "display(most_occurences[['positive_flag','image_icones']].min())"
   ]
  },
  {
   "cell_type": "code",
   "execution_count": null,
   "metadata": {},
   "outputs": [
    {
     "data": {
      "text/plain": [
       "np.float64(0.6655486018641811)"
      ]
     },
     "execution_count": 65,
     "metadata": {},
     "output_type": "execute_result"
    }
   ],
   "source": [
    "analyze_data['position'].mean()"
   ]
  },
  {
   "cell_type": "code",
   "execution_count": 76,
   "metadata": {},
   "outputs": [
    {
     "data": {
      "text/plain": [
       "np.float64(0.662248788368336)"
      ]
     },
     "execution_count": 76,
     "metadata": {},
     "output_type": "execute_result"
    }
   ],
   "source": [
    "analyze_data[analyze_data['positive_flag']==True]['position'].mean()"
   ]
  },
  {
   "cell_type": "code",
   "execution_count": 77,
   "metadata": {},
   "outputs": [
    {
     "data": {
      "text/plain": [
       "np.float64(0.6810227272727273)"
      ]
     },
     "execution_count": 77,
     "metadata": {},
     "output_type": "execute_result"
    }
   ],
   "source": [
    "analyze_data[analyze_data['positive_flag']==False]['position'].mean()"
   ]
  }
 ],
 "metadata": {
  "kernelspec": {
   "display_name": "Python 3",
   "language": "python",
   "name": "python3"
  },
  "language_info": {
   "codemirror_mode": {
    "name": "ipython",
    "version": 3
   },
   "file_extension": ".py",
   "mimetype": "text/x-python",
   "name": "python",
   "nbconvert_exporter": "python",
   "pygments_lexer": "ipython3",
   "version": "3.11.9"
  }
 },
 "nbformat": 4,
 "nbformat_minor": 2
}
