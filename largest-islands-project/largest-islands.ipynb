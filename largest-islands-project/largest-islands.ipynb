{
 "cells": [
  {
   "cell_type": "markdown",
   "metadata": {},
   "source": [
    "# World's largest islands\n",
    "\n",
    "This dataset `largest-islands.csv` contains information about the 100 largest islands in the world. The unit for the `area` column is km2."
   ]
  },
  {
   "cell_type": "code",
   "execution_count": 33,
   "metadata": {},
   "outputs": [],
   "source": [
    "# FOR GOOGLE COLAB ONLY.\n",
    "# Uncomment and run the code below. A dialog will appear to upload files.\n",
    "# Upload 'largest-islands.csv'.\n",
    "\n",
    "# from google.colab import files\n",
    "# uploaded = files.upload()"
   ]
  },
  {
   "cell_type": "code",
   "execution_count": 34,
   "metadata": {},
   "outputs": [
    {
     "data": {
      "text/html": [
       "<div>\n",
       "<style scoped>\n",
       "    .dataframe tbody tr th:only-of-type {\n",
       "        vertical-align: middle;\n",
       "    }\n",
       "\n",
       "    .dataframe tbody tr th {\n",
       "        vertical-align: top;\n",
       "    }\n",
       "\n",
       "    .dataframe thead th {\n",
       "        text-align: right;\n",
       "    }\n",
       "</style>\n",
       "<table border=\"1\" class=\"dataframe\">\n",
       "  <thead>\n",
       "    <tr style=\"text-align: right;\">\n",
       "      <th></th>\n",
       "      <th>region</th>\n",
       "      <th>island</th>\n",
       "      <th>area</th>\n",
       "      <th>countries</th>\n",
       "      <th>climate</th>\n",
       "      <th>rank</th>\n",
       "    </tr>\n",
       "  </thead>\n",
       "  <tbody>\n",
       "    <tr>\n",
       "      <th>0</th>\n",
       "      <td>Africa</td>\n",
       "      <td>Madagascar</td>\n",
       "      <td>591896</td>\n",
       "      <td>Madagascar</td>\n",
       "      <td>tropics</td>\n",
       "      <td>4</td>\n",
       "    </tr>\n",
       "    <tr>\n",
       "      <th>1</th>\n",
       "      <td>Antarctic</td>\n",
       "      <td>Kerguelen</td>\n",
       "      <td>6200</td>\n",
       "      <td>Antarctic Lands, France</td>\n",
       "      <td>temperate</td>\n",
       "      <td>91</td>\n",
       "    </tr>\n",
       "    <tr>\n",
       "      <th>2</th>\n",
       "      <td>Asia</td>\n",
       "      <td>Sumba</td>\n",
       "      <td>11153</td>\n",
       "      <td>Indonesia</td>\n",
       "      <td>tropics</td>\n",
       "      <td>65</td>\n",
       "    </tr>\n",
       "    <tr>\n",
       "      <th>3</th>\n",
       "      <td>Asia</td>\n",
       "      <td>Hainan</td>\n",
       "      <td>34300</td>\n",
       "      <td>China</td>\n",
       "      <td>tropics</td>\n",
       "      <td>37</td>\n",
       "    </tr>\n",
       "    <tr>\n",
       "      <th>4</th>\n",
       "      <td>Asia</td>\n",
       "      <td>Taiwan</td>\n",
       "      <td>36198</td>\n",
       "      <td>Taiwan</td>\n",
       "      <td>tropics</td>\n",
       "      <td>36</td>\n",
       "    </tr>\n",
       "  </tbody>\n",
       "</table>\n",
       "</div>"
      ],
      "text/plain": [
       "      region      island    area                countries    climate  rank\n",
       "0     Africa  Madagascar  591896               Madagascar    tropics     4\n",
       "1  Antarctic   Kerguelen    6200  Antarctic Lands, France  temperate    91\n",
       "2       Asia       Sumba   11153                Indonesia    tropics    65\n",
       "3       Asia      Hainan   34300                    China    tropics    37\n",
       "4       Asia      Taiwan   36198                   Taiwan    tropics    36"
      ]
     },
     "execution_count": 34,
     "metadata": {},
     "output_type": "execute_result"
    }
   ],
   "source": [
    "import pandas as pd\n",
    "import matplotlib.pyplot as plt\n",
    "\n",
    "df = pd.read_csv('largest-islands.csv')\n",
    "df.head()"
   ]
  },
  {
   "cell_type": "markdown",
   "metadata": {},
   "source": [
    "### Project Ideas\n",
    "\n",
    "- What are the 10 largest islands in the tropics?\n",
    "\n",
    "- What are the largest islands in each `region`?\n",
    "\n",
    "- Create a line graph with `area` on the y-axis and `rank` on the x-axis. The data should be ordered by `rank`, from largest to smallest.\n",
    "\n",
    "- What islands are composed of multiple countries?\n",
    "\t- Hint: try `countries.str.contains(\",\")`"
   ]
  },
  {
   "cell_type": "code",
   "execution_count": 35,
   "metadata": {},
   "outputs": [
    {
     "name": "stdout",
     "output_type": "stream",
     "text": [
      "<class 'pandas.core.frame.DataFrame'>\n",
      "RangeIndex: 100 entries, 0 to 99\n",
      "Data columns (total 6 columns):\n",
      " #   Column     Non-Null Count  Dtype \n",
      "---  ------     --------------  ----- \n",
      " 0   region     100 non-null    object\n",
      " 1   island     100 non-null    object\n",
      " 2   area       100 non-null    int64 \n",
      " 3   countries  100 non-null    object\n",
      " 4   climate    100 non-null    object\n",
      " 5   rank       100 non-null    int64 \n",
      "dtypes: int64(2), object(4)\n",
      "memory usage: 4.8+ KB\n"
     ]
    }
   ],
   "source": [
    "# YOUR CODE HERE (add more cells as needed)\n",
    "\n",
    "df.info(\n",
    "    \n",
    ")"
   ]
  },
  {
   "cell_type": "code",
   "execution_count": 36,
   "metadata": {},
   "outputs": [
    {
     "data": {
      "text/html": [
       "<div>\n",
       "<style scoped>\n",
       "    .dataframe tbody tr th:only-of-type {\n",
       "        vertical-align: middle;\n",
       "    }\n",
       "\n",
       "    .dataframe tbody tr th {\n",
       "        vertical-align: top;\n",
       "    }\n",
       "\n",
       "    .dataframe thead th {\n",
       "        text-align: right;\n",
       "    }\n",
       "</style>\n",
       "<table border=\"1\" class=\"dataframe\">\n",
       "  <thead>\n",
       "    <tr style=\"text-align: right;\">\n",
       "      <th></th>\n",
       "      <th>region</th>\n",
       "      <th>island</th>\n",
       "      <th>area</th>\n",
       "      <th>countries</th>\n",
       "      <th>climate</th>\n",
       "      <th>rank</th>\n",
       "    </tr>\n",
       "  </thead>\n",
       "  <tbody>\n",
       "    <tr>\n",
       "      <th>86</th>\n",
       "      <td>Oceania</td>\n",
       "      <td>New Guinea</td>\n",
       "      <td>821400</td>\n",
       "      <td>Papua New Guinea, Indonesia</td>\n",
       "      <td>tropics</td>\n",
       "      <td>2</td>\n",
       "    </tr>\n",
       "    <tr>\n",
       "      <th>23</th>\n",
       "      <td>Asia</td>\n",
       "      <td>Borneo</td>\n",
       "      <td>755000</td>\n",
       "      <td>Indonesia, Malaysia, Brunei</td>\n",
       "      <td>tropics</td>\n",
       "      <td>3</td>\n",
       "    </tr>\n",
       "    <tr>\n",
       "      <th>0</th>\n",
       "      <td>Africa</td>\n",
       "      <td>Madagascar</td>\n",
       "      <td>591896</td>\n",
       "      <td>Madagascar</td>\n",
       "      <td>tropics</td>\n",
       "      <td>4</td>\n",
       "    </tr>\n",
       "    <tr>\n",
       "      <th>28</th>\n",
       "      <td>Asia</td>\n",
       "      <td>Sumatra</td>\n",
       "      <td>480793</td>\n",
       "      <td>Indonesia</td>\n",
       "      <td>tropics</td>\n",
       "      <td>6</td>\n",
       "    </tr>\n",
       "    <tr>\n",
       "      <th>22</th>\n",
       "      <td>Asia</td>\n",
       "      <td>Sulawesi</td>\n",
       "      <td>188522</td>\n",
       "      <td>Indonesia</td>\n",
       "      <td>tropics</td>\n",
       "      <td>11</td>\n",
       "    </tr>\n",
       "    <tr>\n",
       "      <th>21</th>\n",
       "      <td>Asia</td>\n",
       "      <td>Java</td>\n",
       "      <td>129438</td>\n",
       "      <td>Indonesia</td>\n",
       "      <td>tropics</td>\n",
       "      <td>13</td>\n",
       "    </tr>\n",
       "    <tr>\n",
       "      <th>80</th>\n",
       "      <td>North America</td>\n",
       "      <td>Cuba</td>\n",
       "      <td>109884</td>\n",
       "      <td>Cuba</td>\n",
       "      <td>tropics</td>\n",
       "      <td>16</td>\n",
       "    </tr>\n",
       "    <tr>\n",
       "      <th>26</th>\n",
       "      <td>Asia</td>\n",
       "      <td>Luzon</td>\n",
       "      <td>104688</td>\n",
       "      <td>Philippines</td>\n",
       "      <td>tropics</td>\n",
       "      <td>17</td>\n",
       "    </tr>\n",
       "    <tr>\n",
       "      <th>14</th>\n",
       "      <td>Asia</td>\n",
       "      <td>Mindanao</td>\n",
       "      <td>94630</td>\n",
       "      <td>Philippines</td>\n",
       "      <td>tropics</td>\n",
       "      <td>19</td>\n",
       "    </tr>\n",
       "    <tr>\n",
       "      <th>73</th>\n",
       "      <td>North America</td>\n",
       "      <td>Hispaniola</td>\n",
       "      <td>76192</td>\n",
       "      <td>Dominican Republic, Haiti</td>\n",
       "      <td>tropics</td>\n",
       "      <td>23</td>\n",
       "    </tr>\n",
       "  </tbody>\n",
       "</table>\n",
       "</div>"
      ],
      "text/plain": [
       "           region      island    area                    countries  climate  \\\n",
       "86        Oceania  New Guinea  821400  Papua New Guinea, Indonesia  tropics   \n",
       "23           Asia      Borneo  755000  Indonesia, Malaysia, Brunei  tropics   \n",
       "0          Africa  Madagascar  591896                   Madagascar  tropics   \n",
       "28           Asia     Sumatra  480793                    Indonesia  tropics   \n",
       "22           Asia    Sulawesi  188522                    Indonesia  tropics   \n",
       "21           Asia        Java  129438                    Indonesia  tropics   \n",
       "80  North America        Cuba  109884                         Cuba  tropics   \n",
       "26           Asia       Luzon  104688                  Philippines  tropics   \n",
       "14           Asia    Mindanao   94630                  Philippines  tropics   \n",
       "73  North America  Hispaniola   76192    Dominican Republic, Haiti  tropics   \n",
       "\n",
       "    rank  \n",
       "86     2  \n",
       "23     3  \n",
       "0      4  \n",
       "28     6  \n",
       "22    11  \n",
       "21    13  \n",
       "80    16  \n",
       "26    17  \n",
       "14    19  \n",
       "73    23  "
      ]
     },
     "execution_count": 36,
     "metadata": {},
     "output_type": "execute_result"
    }
   ],
   "source": [
    "df.query('climate == \"tropics\"').sort_values(by='area',ascending=False).head(10)"
   ]
  },
  {
   "cell_type": "code",
   "execution_count": 37,
   "metadata": {},
   "outputs": [
    {
     "data": {
      "text/html": [
       "<div>\n",
       "<style scoped>\n",
       "    .dataframe tbody tr th:only-of-type {\n",
       "        vertical-align: middle;\n",
       "    }\n",
       "\n",
       "    .dataframe tbody tr th {\n",
       "        vertical-align: top;\n",
       "    }\n",
       "\n",
       "    .dataframe thead th {\n",
       "        text-align: right;\n",
       "    }\n",
       "</style>\n",
       "<table border=\"1\" class=\"dataframe\">\n",
       "  <thead>\n",
       "    <tr style=\"text-align: right;\">\n",
       "      <th></th>\n",
       "      <th>area</th>\n",
       "      <th>island</th>\n",
       "    </tr>\n",
       "    <tr>\n",
       "      <th>region</th>\n",
       "      <th></th>\n",
       "      <th></th>\n",
       "    </tr>\n",
       "  </thead>\n",
       "  <tbody>\n",
       "    <tr>\n",
       "      <th>Africa</th>\n",
       "      <td>591896</td>\n",
       "      <td>Madagascar</td>\n",
       "    </tr>\n",
       "    <tr>\n",
       "      <th>Antarctic</th>\n",
       "      <td>6200</td>\n",
       "      <td>Kerguelen</td>\n",
       "    </tr>\n",
       "    <tr>\n",
       "      <th>Asia</th>\n",
       "      <td>755000</td>\n",
       "      <td>Timor</td>\n",
       "    </tr>\n",
       "    <tr>\n",
       "      <th>Eurasia</th>\n",
       "      <td>76400</td>\n",
       "      <td>Yuzhny</td>\n",
       "    </tr>\n",
       "    <tr>\n",
       "      <th>Europe</th>\n",
       "      <td>2166086</td>\n",
       "      <td>Zealand</td>\n",
       "    </tr>\n",
       "    <tr>\n",
       "      <th>North America</th>\n",
       "      <td>507451</td>\n",
       "      <td>Victoria Island</td>\n",
       "    </tr>\n",
       "    <tr>\n",
       "      <th>Oceania</th>\n",
       "      <td>821400</td>\n",
       "      <td>Yos Sudarso</td>\n",
       "    </tr>\n",
       "    <tr>\n",
       "      <th>South America</th>\n",
       "      <td>47992</td>\n",
       "      <td>Wellington</td>\n",
       "    </tr>\n",
       "  </tbody>\n",
       "</table>\n",
       "</div>"
      ],
      "text/plain": [
       "                  area           island\n",
       "region                                 \n",
       "Africa          591896       Madagascar\n",
       "Antarctic         6200        Kerguelen\n",
       "Asia            755000            Timor\n",
       "Eurasia          76400           Yuzhny\n",
       "Europe         2166086          Zealand\n",
       "North America   507451  Victoria Island\n",
       "Oceania         821400      Yos Sudarso\n",
       "South America    47992       Wellington"
      ]
     },
     "execution_count": 37,
     "metadata": {},
     "output_type": "execute_result"
    }
   ],
   "source": [
    "df.groupby(by='region')[['area','island']].max()"
   ]
  },
  {
   "cell_type": "markdown",
   "metadata": {},
   "source": [
    "- Create a line graph with `area` on the y-axis and `rank` on the x-axis. The data should be ordered by `rank`, from largest to smallest.\n",
    "\n",
    "- What islands are composed of multiple countries?\n",
    "\t- Hint: try `countries.str.contains(\",\")`"
   ]
  },
  {
   "cell_type": "code",
   "execution_count": 38,
   "metadata": {},
   "outputs": [
    {
     "data": {
      "text/plain": [
       "Text(0, 0.5, 'area')"
      ]
     },
     "execution_count": 38,
     "metadata": {},
     "output_type": "execute_result"
    },
    {
     "data": {
      "image/png": "[encoded data removed]",
      "text/plain": [
       "<Figure size 640x480 with 1 Axes>"
      ]
     },
     "metadata": {},
     "output_type": "display_data"
    }
   ],
   "source": [
    "plt.plot(df.sort_values(by='rank',ascending=False)['rank'],df.sort_values(by='rank',ascending=False)['area'])\n",
    "plt.title(\"line Graph\")\n",
    "plt.xlabel(\"rank\")\n",
    "plt.ylabel('area')"
   ]
  },
  {
   "cell_type": "code",
   "execution_count": 39,
   "metadata": {},
   "outputs": [
    {
     "data": {
      "text/html": [
       "<div>\n",
       "<style scoped>\n",
       "    .dataframe tbody tr th:only-of-type {\n",
       "        vertical-align: middle;\n",
       "    }\n",
       "\n",
       "    .dataframe tbody tr th {\n",
       "        vertical-align: top;\n",
       "    }\n",
       "\n",
       "    .dataframe thead th {\n",
       "        text-align: right;\n",
       "    }\n",
       "</style>\n",
       "<table border=\"1\" class=\"dataframe\">\n",
       "  <thead>\n",
       "    <tr style=\"text-align: right;\">\n",
       "      <th></th>\n",
       "      <th>region</th>\n",
       "      <th>island</th>\n",
       "      <th>area</th>\n",
       "      <th>countries</th>\n",
       "      <th>climate</th>\n",
       "      <th>rank</th>\n",
       "    </tr>\n",
       "  </thead>\n",
       "  <tbody>\n",
       "    <tr>\n",
       "      <th>0</th>\n",
       "      <td>Africa</td>\n",
       "      <td>Madagascar</td>\n",
       "      <td>591896</td>\n",
       "      <td>Madagascar</td>\n",
       "      <td>tropics</td>\n",
       "      <td>4</td>\n",
       "    </tr>\n",
       "    <tr>\n",
       "      <th>1</th>\n",
       "      <td>Antarctic</td>\n",
       "      <td>Kerguelen</td>\n",
       "      <td>6200</td>\n",
       "      <td>Antarctic Lands, France</td>\n",
       "      <td>temperate</td>\n",
       "      <td>91</td>\n",
       "    </tr>\n",
       "    <tr>\n",
       "      <th>2</th>\n",
       "      <td>Asia</td>\n",
       "      <td>Sumba</td>\n",
       "      <td>11153</td>\n",
       "      <td>Indonesia</td>\n",
       "      <td>tropics</td>\n",
       "      <td>65</td>\n",
       "    </tr>\n",
       "    <tr>\n",
       "      <th>3</th>\n",
       "      <td>Asia</td>\n",
       "      <td>Hainan</td>\n",
       "      <td>34300</td>\n",
       "      <td>China</td>\n",
       "      <td>tropics</td>\n",
       "      <td>37</td>\n",
       "    </tr>\n",
       "    <tr>\n",
       "      <th>4</th>\n",
       "      <td>Asia</td>\n",
       "      <td>Taiwan</td>\n",
       "      <td>36198</td>\n",
       "      <td>Taiwan</td>\n",
       "      <td>tropics</td>\n",
       "      <td>36</td>\n",
       "    </tr>\n",
       "  </tbody>\n",
       "</table>\n",
       "</div>"
      ],
      "text/plain": [
       "      region      island    area                countries    climate  rank\n",
       "0     Africa  Madagascar  591896               Madagascar    tropics     4\n",
       "1  Antarctic   Kerguelen    6200  Antarctic Lands, France  temperate    91\n",
       "2       Asia       Sumba   11153                Indonesia    tropics    65\n",
       "3       Asia      Hainan   34300                    China    tropics    37\n",
       "4       Asia      Taiwan   36198                   Taiwan    tropics    36"
      ]
     },
     "execution_count": 39,
     "metadata": {},
     "output_type": "execute_result"
    }
   ],
   "source": [
    "df.head()"
   ]
  },
  {
   "cell_type": "markdown",
   "metadata": {},
   "source": [
    "- What islands are composed of multiple countries?\n",
    "\t- Hint: try `countries.str.contains(\",\")`"
   ]
  },
  {
   "cell_type": "code",
   "execution_count": 42,
   "metadata": {},
   "outputs": [
    {
     "data": {
      "text/plain": [
       "1                           Kerguelen\n",
       "23                             Borneo\n",
       "45                            Ireland\n",
       "50                             Cyprus\n",
       "73                         Hispaniola\n",
       "86                         New Guinea\n",
       "98    Isla Grande de Tierra del Fuego\n",
       "Name: island, dtype: object"
      ]
     },
     "execution_count": 42,
     "metadata": {},
     "output_type": "execute_result"
    }
   ],
   "source": [
    "df.query('countries.str.contains(\",\")')['island']"
   ]
  }
 ],
 "metadata": {
  "kernelspec": {
   "display_name": "Python 3",
   "language": "python",
   "name": "python3"
  },
  "language_info": {
   "codemirror_mode": {
    "name": "ipython",
    "version": 3
   },
   "file_extension": ".py",
   "mimetype": "text/x-python",
   "name": "python",
   "nbconvert_exporter": "python",
   "pygments_lexer": "ipython3",
   "version": "3.11.9"
  }
 },
 "nbformat": 4,
 "nbformat_minor": 2
}
